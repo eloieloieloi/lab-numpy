{
 "cells": [
  {
   "cell_type": "markdown",
   "metadata": {},
   "source": [
    "# Intrduction to NumPy\n",
    "\n",
    "\n",
    "#### 1. Import NumPy under the name np."
   ]
  },
  {
   "cell_type": "code",
   "execution_count": 2,
   "metadata": {},
   "outputs": [],
   "source": [
    "# your code here\n",
    "import numpy as np"
   ]
  },
  {
   "cell_type": "markdown",
   "metadata": {},
   "source": [
    "#### 2. Print your NumPy version."
   ]
  },
  {
   "cell_type": "code",
   "execution_count": 3,
   "metadata": {},
   "outputs": [
    {
     "data": {
      "text/plain": [
       "<module 'numpy.version' from '/srv/conda/envs/notebook/lib/python3.7/site-packages/numpy/version.py'>"
      ]
     },
     "execution_count": 3,
     "metadata": {},
     "output_type": "execute_result"
    }
   ],
   "source": [
    "# your code here\n",
    "np.version"
   ]
  },
  {
   "cell_type": "markdown",
   "metadata": {},
   "source": [
    "#### 3. Generate a 2x3x5 3-dimensional array with random values. Assign the array to variable *a*.\n",
    "**Challenge**: there are at least three easy ways that use numpy to generate random arrays. How many ways can you find?"
   ]
  },
  {
   "cell_type": "code",
   "execution_count": 8,
   "metadata": {},
   "outputs": [
    {
     "data": {
      "text/plain": [
       "array([[[0.27459585, 0.87059051, 0.83884431, 0.17084112, 0.55276139],\n",
       "        [0.02536632, 0.41271126, 0.01799559, 0.30268202, 0.87323472],\n",
       "        [0.65378818, 0.01569161, 0.45748629, 0.32168189, 0.14882876]],\n",
       "\n",
       "       [[0.9152309 , 0.06278466, 0.12895659, 0.13779077, 0.85627357],\n",
       "        [0.67416908, 0.4806742 , 0.66850602, 0.68975136, 0.65070012],\n",
       "        [0.64971675, 0.89360778, 0.56062464, 0.19241429, 0.76969478]]])"
      ]
     },
     "execution_count": 8,
     "metadata": {},
     "output_type": "execute_result"
    }
   ],
   "source": [
    "# Method 1\n",
    "a = np.random.random((2,3,5))"
   ]
  },
  {
   "cell_type": "code",
   "execution_count": 13,
   "metadata": {},
   "outputs": [],
   "source": [
    "# Method 2\n",
    "\n",
    "#lst1 = np.random.random([3,5])\n",
    "#lst2 = np.random.random([3,5])\n",
    "#b = np.array(lst1, lst2)\n"
   ]
  },
  {
   "cell_type": "code",
   "execution_count": null,
   "metadata": {},
   "outputs": [],
   "source": [
    "# Method 3"
   ]
  },
  {
   "cell_type": "markdown",
   "metadata": {},
   "source": [
    "#### 4. Print *a*.\n"
   ]
  },
  {
   "cell_type": "code",
   "execution_count": 9,
   "metadata": {},
   "outputs": [
    {
     "name": "stdout",
     "output_type": "stream",
     "text": [
      "[[[0.27459585 0.87059051 0.83884431 0.17084112 0.55276139]\n",
      "  [0.02536632 0.41271126 0.01799559 0.30268202 0.87323472]\n",
      "  [0.65378818 0.01569161 0.45748629 0.32168189 0.14882876]]\n",
      "\n",
      " [[0.9152309  0.06278466 0.12895659 0.13779077 0.85627357]\n",
      "  [0.67416908 0.4806742  0.66850602 0.68975136 0.65070012]\n",
      "  [0.64971675 0.89360778 0.56062464 0.19241429 0.76969478]]]\n"
     ]
    }
   ],
   "source": [
    "# your code here\n",
    "print(a)"
   ]
  },
  {
   "cell_type": "markdown",
   "metadata": {},
   "source": [
    "#### 5. Create a 5x2x3 3-dimensional array with all values equaling 1. Assign the array to variable *b*."
   ]
  },
  {
   "cell_type": "code",
   "execution_count": 53,
   "metadata": {},
   "outputs": [],
   "source": [
    "# your code here\n",
    "b = np.ones((5,2,3))"
   ]
  },
  {
   "cell_type": "markdown",
   "metadata": {},
   "source": [
    "#### 6. Print *b*.\n"
   ]
  },
  {
   "cell_type": "code",
   "execution_count": 54,
   "metadata": {},
   "outputs": [
    {
     "data": {
      "text/plain": [
       "array([[[1., 1., 1.],\n",
       "        [1., 1., 1.]],\n",
       "\n",
       "       [[1., 1., 1.],\n",
       "        [1., 1., 1.]],\n",
       "\n",
       "       [[1., 1., 1.],\n",
       "        [1., 1., 1.]],\n",
       "\n",
       "       [[1., 1., 1.],\n",
       "        [1., 1., 1.]],\n",
       "\n",
       "       [[1., 1., 1.],\n",
       "        [1., 1., 1.]]])"
      ]
     },
     "execution_count": 54,
     "metadata": {},
     "output_type": "execute_result"
    }
   ],
   "source": [
    "# your code here\n",
    "b"
   ]
  },
  {
   "cell_type": "markdown",
   "metadata": {},
   "source": [
    "#### 7. Do *a* and *b* have the same size? How do you prove that in Python code?"
   ]
  },
  {
   "cell_type": "code",
   "execution_count": 55,
   "metadata": {},
   "outputs": [
    {
     "name": "stdout",
     "output_type": "stream",
     "text": [
      "False\n"
     ]
    }
   ],
   "source": [
    "# your code here\n",
    "comp = np.array_equiv(a,b)\n",
    "print(comp)"
   ]
  },
  {
   "cell_type": "markdown",
   "metadata": {},
   "source": [
    "#### 8. Are you able to add *a* and *b*? Why or why not?\n"
   ]
  },
  {
   "cell_type": "code",
   "execution_count": null,
   "metadata": {},
   "outputs": [],
   "source": [
    "# your answer here\n",
    "# Not without modifiyng either one, as they do not match size/shape."
   ]
  },
  {
   "cell_type": "markdown",
   "metadata": {},
   "source": [
    "#### 9. Transpose *b* so that it has the same structure of *a* (i.e. become a 2x3x5 array). Assign the transposed array to variable *c*."
   ]
  },
  {
   "cell_type": "code",
   "execution_count": 84,
   "metadata": {},
   "outputs": [],
   "source": [
    "# your code here\n",
    "c = b.reshape(2,3,5)\n",
    "#np.shape(b)"
   ]
  },
  {
   "cell_type": "markdown",
   "metadata": {},
   "source": [
    "#### 10. Try to add *a* and *c*. Now it should work. Assign the sum to variable *d*. But why does it work now?"
   ]
  },
  {
   "cell_type": "code",
   "execution_count": 86,
   "metadata": {},
   "outputs": [],
   "source": [
    "# your code/answer here\n",
    "d = np.add(a, c)"
   ]
  },
  {
   "cell_type": "markdown",
   "metadata": {},
   "source": [
    "#### 11. Print *a* and *d*. Notice the difference and relation of the two array in terms of the values? Explain."
   ]
  },
  {
   "cell_type": "code",
   "execution_count": 90,
   "metadata": {},
   "outputs": [
    {
     "name": "stdout",
     "output_type": "stream",
     "text": [
      "[[[0.27459585 0.87059051 0.83884431 0.17084112 0.55276139]\n",
      "  [0.02536632 0.41271126 0.01799559 0.30268202 0.87323472]\n",
      "  [0.65378818 0.01569161 0.45748629 0.32168189 0.14882876]]\n",
      "\n",
      " [[0.9152309  0.06278466 0.12895659 0.13779077 0.85627357]\n",
      "  [0.67416908 0.4806742  0.66850602 0.68975136 0.65070012]\n",
      "  [0.64971675 0.89360778 0.56062464 0.19241429 0.76969478]]] \n",
      "\n",
      " [[[1.27459585 1.87059051 1.83884431 1.17084112 1.55276139]\n",
      "  [1.02536632 1.41271126 1.01799559 1.30268202 1.87323472]\n",
      "  [1.65378818 1.01569161 1.45748629 1.32168189 1.14882876]]\n",
      "\n",
      " [[1.9152309  1.06278466 1.12895659 1.13779077 1.85627357]\n",
      "  [1.67416908 1.4806742  1.66850602 1.68975136 1.65070012]\n",
      "  [1.64971675 1.89360778 1.56062464 1.19241429 1.76969478]]]\n"
     ]
    }
   ],
   "source": [
    "# your code/answer here\n",
    "print(a,\"\\n\\n\", d)\n",
    "# D is just a+1 on each value."
   ]
  },
  {
   "cell_type": "markdown",
   "metadata": {},
   "source": [
    "#### 12. Multiply *a* and *c*. Assign the result to *e*."
   ]
  },
  {
   "cell_type": "code",
   "execution_count": 92,
   "metadata": {},
   "outputs": [
    {
     "name": "stdout",
     "output_type": "stream",
     "text": [
      "[[[0.27459585 0.87059051 0.83884431 0.17084112 0.55276139]\n",
      "  [0.02536632 0.41271126 0.01799559 0.30268202 0.87323472]\n",
      "  [0.65378818 0.01569161 0.45748629 0.32168189 0.14882876]]\n",
      "\n",
      " [[0.9152309  0.06278466 0.12895659 0.13779077 0.85627357]\n",
      "  [0.67416908 0.4806742  0.66850602 0.68975136 0.65070012]\n",
      "  [0.64971675 0.89360778 0.56062464 0.19241429 0.76969478]]]\n"
     ]
    }
   ],
   "source": [
    "# your code here\n",
    "e = np.multiply(a, c)\n",
    "print(e)"
   ]
  },
  {
   "cell_type": "markdown",
   "metadata": {},
   "source": [
    "#### 13. Does *e* equal to *a*? Why or why not?\n"
   ]
  },
  {
   "cell_type": "code",
   "execution_count": 94,
   "metadata": {},
   "outputs": [
    {
     "name": "stdout",
     "output_type": "stream",
     "text": [
      "True\n"
     ]
    }
   ],
   "source": [
    "# your code/answer here\n",
    "comp = np.array_equiv(a,e)\n",
    "print(comp)\n",
    "# Yes, as 1*X = X is a mathematical true (mostly)"
   ]
  },
  {
   "cell_type": "markdown",
   "metadata": {},
   "source": [
    "#### 14. Identify the max, min, and mean values in *d*. Assign those values to variables *d_max*, *d_min* and *d_mean*."
   ]
  },
  {
   "cell_type": "code",
   "execution_count": 98,
   "metadata": {},
   "outputs": [
    {
     "name": "stdout",
     "output_type": "stream",
     "text": [
      "1.9152309007688615 1.0156916074615945 1.475599843938419\n"
     ]
    }
   ],
   "source": [
    "# your code here\n",
    "d_max = np.max(d)\n",
    "d_min = np.min(d)\n",
    "d_mean = np.mean(d)\n",
    "print(d_max, d_min, d_mean)"
   ]
  },
  {
   "cell_type": "markdown",
   "metadata": {},
   "source": [
    "#### 15. Now we want to label the values in *d*. First create an empty array *f* with the same shape (i.e. 2x3x5) as *d* using `np.empty`.\n"
   ]
  },
  {
   "cell_type": "code",
   "execution_count": 104,
   "metadata": {},
   "outputs": [
    {
     "name": "stdout",
     "output_type": "stream",
     "text": [
      "[[[1.27459585 1.87059051 1.83884431 1.17084112 1.55276139]\n",
      "  [1.02536632 1.41271126 1.01799559 1.30268202 1.87323472]\n",
      "  [1.65378818 1.01569161 1.45748629 1.32168189 1.14882876]]\n",
      "\n",
      " [[1.9152309  1.06278466 1.12895659 1.13779077 1.85627357]\n",
      "  [1.67416908 1.4806742  1.66850602 1.68975136 1.65070012]\n",
      "  [1.64971675 1.89360778 1.56062464 1.19241429 1.76969478]]]\n"
     ]
    }
   ],
   "source": [
    "# your code here\n",
    "f = np.empty((2,3,5))\n",
    "print(f)"
   ]
  },
  {
   "cell_type": "markdown",
   "metadata": {},
   "source": [
    "#### 16. Populate the values in *f*. \n",
    "\n",
    "For each value in *d*, if it's larger than *d_min* but smaller than *d_mean*, assign 25 to the corresponding value in *f*. If a value in *d* is larger than *d_mean* but smaller than *d_max*, assign 75 to the corresponding value in *f*. If a value equals to *d_mean*, assign 50 to the corresponding value in *f*. Assign 0 to the corresponding value(s) in *f* for *d_min* in *d*. Assign 100 to the corresponding value(s) in *f* for *d_max* in *d*. In the end, f should have only the following values: 0, 25, 50, 75, and 100.\n",
    "\n",
    "**Note**: you don't have to use Numpy in this question."
   ]
  },
  {
   "cell_type": "code",
   "execution_count": 130,
   "metadata": {},
   "outputs": [
    {
     "name": "stdout",
     "output_type": "stream",
     "text": [
      "[[[ 25.  75.  75.  25.  75.]\n",
      "  [ 25.  25.  25.  25.  75.]\n",
      "  [ 75.   0.  25.  25.  25.]]\n",
      "\n",
      " [[100.  25.  25.  25.  75.]\n",
      "  [ 75.  75.  75.  75.  75.]\n",
      "  [ 75.  75.  75.  25.  75.]]]\n"
     ]
    }
   ],
   "source": [
    "# your code here\n",
    "pos1 = 0\n",
    "pos2 = 0\n",
    "pos3 = 0\n",
    "f = np.empty((2,3,5))\n",
    "for i in d:\n",
    "    for x in i:\n",
    "        for y in x:\n",
    "            if(y<=d_min):\n",
    "                f[pos1, pos2, pos3] = 0\n",
    "            if(d_min<y<d_mean):\n",
    "                f[pos1, pos2, pos3] = 25\n",
    "            if(y == d_mean):\n",
    "                f[pos1, pos2, pos3] = 50\n",
    "            if(d_mean<y<d_max):\n",
    "                f[pos1, pos2, pos3] = 75\n",
    "            if(d_max<=y):\n",
    "                f[pos1, pos2, pos3] = 100\n",
    "            pos3 += 1\n",
    "        pos2 += 1\n",
    "        pos3 = 0\n",
    "    pos1 += 1\n",
    "    pos2 =0\n",
    "print(f)"
   ]
  },
  {
   "cell_type": "markdown",
   "metadata": {},
   "source": [
    "#### 17. Print *d* and *f*. Do you have your expected *f*?\n",
    "For instance, if your *d* is:\n",
    "```python\n",
    "[[[1.85836099, 1.67064465, 1.62576044, 1.40243961, 1.88454931],\n",
    "[1.75354326, 1.69403643, 1.36729252, 1.61415071, 1.12104981],\n",
    "[1.72201435, 1.1862918 , 1.87078449, 1.7726778 , 1.88180042]],\n",
    "[[1.44747908, 1.31673383, 1.02000951, 1.52218947, 1.97066381],\n",
    "[1.79129243, 1.74983003, 1.96028037, 1.85166831, 1.65450881],\n",
    "[1.18068344, 1.9587381 , 1.00656599, 1.93402165, 1.73514584]]]\n",
    "```\n",
    "Your *f* should be:\n",
    "```python\n",
    "[[[ 75.,  75.,  75.,  25.,  75.],\n",
    "[ 75.,  75.,  25.,  25.,  25.],\n",
    "[ 75.,  25.,  75.,  75.,  75.]],\n",
    "[[ 25.,  25.,  25.,  25., 100.],\n",
    "[ 75.,  75.,  75.,  75.,  75.],\n",
    "[ 25.,  75.,   0.,  75.,  75.]]]\n",
    "```"
   ]
  },
  {
   "cell_type": "code",
   "execution_count": 131,
   "metadata": {},
   "outputs": [
    {
     "name": "stdout",
     "output_type": "stream",
     "text": [
      "[[[1.27459585 1.87059051 1.83884431 1.17084112 1.55276139]\n",
      "  [1.02536632 1.41271126 1.01799559 1.30268202 1.87323472]\n",
      "  [1.65378818 1.01569161 1.45748629 1.32168189 1.14882876]]\n",
      "\n",
      " [[1.9152309  1.06278466 1.12895659 1.13779077 1.85627357]\n",
      "  [1.67416908 1.4806742  1.66850602 1.68975136 1.65070012]\n",
      "  [1.64971675 1.89360778 1.56062464 1.19241429 1.76969478]]] \n",
      "\n",
      " [[[ 25.  75.  75.  25.  75.]\n",
      "  [ 25.  25.  25.  25.  75.]\n",
      "  [ 75.   0.  25.  25.  25.]]\n",
      "\n",
      " [[100.  25.  25.  25.  75.]\n",
      "  [ 75.  75.  75.  75.  75.]\n",
      "  [ 75.  75.  75.  25.  75.]]]\n"
     ]
    }
   ],
   "source": [
    "# your code here\n",
    "print(d,\"\\n\\n\", f)"
   ]
  },
  {
   "cell_type": "markdown",
   "metadata": {},
   "source": [
    "#### 18. Bonus question: instead of using numbers (i.e. 0, 25, 50, 75, and 100), use string values  (\"A\", \"B\", \"C\", \"D\", and \"E\") to label the array elements. For the example above, the expected result is:\n",
    "\n",
    "```python\n",
    "[[[ 'D',  'D',  'D',  'B',  'D'],\n",
    "[ 'D',  'D',  'B',  'B',  'B'],\n",
    "[ 'D',  'B',  'D',  'D',  'D']],\n",
    "[[ 'B',  'B',  'B',  'B',  'E'],\n",
    "[ 'D',  'D',  'D',  'D',  'D'],\n",
    "[ 'B',  'D',   'A',  'D', 'D']]]\n",
    "```\n",
    "**Note**: you don't have to use Numpy in this question."
   ]
  },
  {
   "cell_type": "code",
   "execution_count": 133,
   "metadata": {},
   "outputs": [
    {
     "ename": "ValueError",
     "evalue": "could not convert string to float: 'B'",
     "output_type": "error",
     "traceback": [
      "\u001b[0;31m---------------------------------------------------------------------------\u001b[0m",
      "\u001b[0;31mValueError\u001b[0m                                Traceback (most recent call last)",
      "\u001b[0;32m<ipython-input-133-df91bb606dc2>\u001b[0m in \u001b[0;36m<module>\u001b[0;34m\u001b[0m\n\u001b[1;32m     10\u001b[0m                 \u001b[0mf\u001b[0m\u001b[0;34m[\u001b[0m\u001b[0mpos1\u001b[0m\u001b[0;34m,\u001b[0m \u001b[0mpos2\u001b[0m\u001b[0;34m,\u001b[0m \u001b[0mpos3\u001b[0m\u001b[0;34m]\u001b[0m \u001b[0;34m=\u001b[0m \u001b[0;34m'A'\u001b[0m\u001b[0;34m\u001b[0m\u001b[0;34m\u001b[0m\u001b[0m\n\u001b[1;32m     11\u001b[0m             \u001b[0;32mif\u001b[0m\u001b[0;34m(\u001b[0m\u001b[0md_min\u001b[0m\u001b[0;34m<\u001b[0m\u001b[0my\u001b[0m\u001b[0;34m<\u001b[0m\u001b[0md_mean\u001b[0m\u001b[0;34m)\u001b[0m\u001b[0;34m:\u001b[0m\u001b[0;34m\u001b[0m\u001b[0;34m\u001b[0m\u001b[0m\n\u001b[0;32m---> 12\u001b[0;31m                 \u001b[0mf\u001b[0m\u001b[0;34m[\u001b[0m\u001b[0mpos1\u001b[0m\u001b[0;34m,\u001b[0m \u001b[0mpos2\u001b[0m\u001b[0;34m,\u001b[0m \u001b[0mpos3\u001b[0m\u001b[0;34m]\u001b[0m \u001b[0;34m=\u001b[0m \u001b[0;34m'B'\u001b[0m\u001b[0;34m\u001b[0m\u001b[0;34m\u001b[0m\u001b[0m\n\u001b[0m\u001b[1;32m     13\u001b[0m             \u001b[0;32mif\u001b[0m\u001b[0;34m(\u001b[0m\u001b[0my\u001b[0m \u001b[0;34m==\u001b[0m \u001b[0md_mean\u001b[0m\u001b[0;34m)\u001b[0m\u001b[0;34m:\u001b[0m\u001b[0;34m\u001b[0m\u001b[0;34m\u001b[0m\u001b[0m\n\u001b[1;32m     14\u001b[0m                 \u001b[0mf\u001b[0m\u001b[0;34m[\u001b[0m\u001b[0mpos1\u001b[0m\u001b[0;34m,\u001b[0m \u001b[0mpos2\u001b[0m\u001b[0;34m,\u001b[0m \u001b[0mpos3\u001b[0m\u001b[0;34m]\u001b[0m \u001b[0;34m=\u001b[0m \u001b[0;34m'C'\u001b[0m\u001b[0;34m\u001b[0m\u001b[0;34m\u001b[0m\u001b[0m\n",
      "\u001b[0;31mValueError\u001b[0m: could not convert string to float: 'B'"
     ]
    }
   ],
   "source": [
    "# your code here\n",
    "pos1 = 0\n",
    "pos2 = 0\n",
    "pos3 = 0\n",
    "f = np.empty((2,3,5))\n",
    "for i in d:\n",
    "    for x in i:\n",
    "        for y in x:\n",
    "            if(y<=d_min):\n",
    "                f[pos1, pos2, pos3] = 'A'\n",
    "            if(d_min<y<d_mean):\n",
    "                f[pos1, pos2, pos3] = 'B'\n",
    "            if(y == d_mean):\n",
    "                f[pos1, pos2, pos3] = 'C'\n",
    "            if(d_mean<y<d_max):\n",
    "                f[pos1, pos2, pos3] = 'D'\n",
    "            if(d_max<=y):\n",
    "                f[pos1, pos2, pos3] = 'E'\n",
    "            pos3 += 1\n",
    "        pos2 += 1\n",
    "        pos3 = 0\n",
    "    pos1 += 1\n",
    "    pos2 =0\n",
    "print(f)"
   ]
  }
 ],
 "metadata": {
  "kernelspec": {
   "display_name": "Python 3",
   "language": "python",
   "name": "python3"
  },
  "language_info": {
   "codemirror_mode": {
    "name": "ipython",
    "version": 3
   },
   "file_extension": ".py",
   "mimetype": "text/x-python",
   "name": "python",
   "nbconvert_exporter": "python",
   "pygments_lexer": "ipython3",
   "version": "3.7.8"
  }
 },
 "nbformat": 4,
 "nbformat_minor": 4
}
